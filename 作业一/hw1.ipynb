{
 "cells": [
  {
   "cell_type": "code",
   "execution_count": 1,
   "metadata": {},
   "outputs": [],
   "source": [
    "import pandas as pd\n",
    "import os"
   ]
  },
  {
   "cell_type": "code",
   "execution_count": 2,
   "metadata": {},
   "outputs": [
    {
     "name": "stdout",
     "output_type": "stream",
     "text": [
      "中证800\n",
      "2005-01-01至2019-01-31\n",
      "波动率（月度）：8.86%\n",
      "累计收益率：254.96%\n",
      "复合年化收益率：9.47%\n",
      "夏普比率： 0.4013928087015472\n",
      "Calmar比率： 0.1972321493900405\n",
      "===================================\n",
      "上证国债\n",
      "2005-01-01至2019-01-31\n",
      "波动率（月度）：0.49%\n",
      "累计收益率：75.74%\n",
      "复合年化收益率：4.11%\n",
      "夏普比率： 1.5157083185310647\n",
      "Calmar比率： 2.0690693217287084\n",
      "===================================\n"
     ]
    }
   ],
   "source": [
    "def calculate(start_date, end_date, index): \n",
    "        \n",
    "        df = pd.read_excel(os.path.join(os.path.abspath(\"作业一.xlsx\")), index_col=0, usecols=\"A, B, C\")\n",
    "        df.index = pd.to_datetime(df.index)\n",
    "        df_filtered = df[(df.index >= start_date) & (df.index <= end_date)]\n",
    "\n",
    "        # 转月频\n",
    "        monthly_data = df_filtered.resample('M').last()\n",
    "        index_monthly_returns = monthly_data[index].pct_change().dropna()\n",
    "\n",
    "        # 波动率\n",
    "        monthly_volatility = index_monthly_returns.std()\n",
    "\n",
    "        # 累计收益率\n",
    "        cumulative_returns = (1 + index_monthly_returns).cumprod() - 1\n",
    "        total_return = cumulative_returns.iloc[-1]\n",
    "\n",
    "        # 复合年化收益率\n",
    "        num_years = len(cumulative_returns)/12\n",
    "        compound_annual_growth_rate = (1 + total_return) ** (1 / num_years) - 1\n",
    "\n",
    "        # 夏普比率 使用月频\n",
    "        rf = 0.015\n",
    "        sharpe_ratio =(index_monthly_returns.mean()*12 - rf )/(monthly_volatility* (12 ** 0.5))\n",
    "\n",
    "        # calmar_ratio 使用月频\n",
    "        def max_drawdown(return_series):\n",
    "            comp_ret = (return_series+1).cumprod()\n",
    "            peak = comp_ret.expanding(min_periods=1).max()\n",
    "            dd = (comp_ret/peak)-1\n",
    "            return dd.min()\n",
    "\n",
    "        calmar_ratio = index_monthly_returns.mean()*12/abs(max_drawdown(index_monthly_returns))\n",
    "\n",
    "        print(index)\n",
    "        print(start_date + \"至\" + end_date)\n",
    "        print(\"波动率（月度）：\"+ \"{:.2%}\".format(monthly_volatility))\n",
    "        print(\"累计收益率：\"+ \"{:.2%}\".format(total_return))\n",
    "        print(\"复合年化收益率：\"+ \"{:.2%}\".format(compound_annual_growth_rate))\n",
    "        print(\"夏普比率：\", sharpe_ratio)\n",
    "        print(\"Calmar比率：\", calmar_ratio)\n",
    "        print(\"===================================\")\n",
    "        return\n",
    "\n",
    "calculate('2005-01-01','2019-01-31','中证800')\n",
    "calculate('2005-01-01','2019-01-31','上证国债')\n"
   ]
  },
  {
   "cell_type": "code",
   "execution_count": 3,
   "metadata": {},
   "outputs": [
    {
     "name": "stdout",
     "output_type": "stream",
     "text": [
      "股票占比: 0.4 债券占比: 0.6\n",
      "2005-01-01至2019-01-31\n",
      "波动率（月度）：3.49%\n",
      "累计收益率：174.29%\n",
      "复合年化收益率：7.43%\n",
      "夏普比率： 0.5337244257795272\n",
      "Calmar比率： 0.24385263513191355\n",
      "===================================\n",
      "股票占比: 0.3 债券占比: 0.7\n",
      "2005-01-01至2019-01-31\n",
      "波动率（月度）：2.60%\n",
      "累计收益率：150.41%\n",
      "复合年化收益率：6.73%\n",
      "夏普比率： 0.6071458437769878\n",
      "Calmar比率： 0.29318494949924356\n",
      "===================================\n",
      "股票占比: 0.2 债券占比: 0.8\n",
      "2005-01-01至2019-01-31\n",
      "波动率（月度）：1.73%\n",
      "累计收益率：125.55%\n",
      "复合年化收益率：5.95%\n",
      "夏普比率： 0.7514234777824628\n",
      "Calmar比率： 0.42015026317920545\n",
      "===================================\n"
     ]
    }
   ],
   "source": [
    "\n",
    "def calculate_combine(start_date, end_date, stock_percent, bond_percent):\n",
    "        \n",
    "        df = pd.read_excel(os.path.join(os.path.abspath(\"作业一.xlsx\")), index_col=0, usecols=\"A, B, C\")\n",
    "        df.index = pd.to_datetime(df.index)\n",
    "        df_filtered = df[(df.index >= start_date) & (df.index <= end_date)]\n",
    "\n",
    "\n",
    "        # 转月频\n",
    "        monthly_data = df_filtered.resample('M').last()\n",
    "        monthly_returns_portfolio = stock_percent * monthly_data['中证800'].pct_change() + bond_percent * monthly_data['上证国债'].pct_change().dropna()\n",
    "\n",
    "        # 股债组合的波动率\n",
    "        monthly_volatility_portfolio = monthly_returns_portfolio.std()\n",
    "\n",
    "        # 股债组合的累计收益率\n",
    "        cumulative_returns_portfolio = (1 + monthly_returns_portfolio).cumprod() - 1\n",
    "        total_return_portfolio = cumulative_returns_portfolio.iloc[-1]\n",
    "\n",
    "        # 股债组合的复合年化收益率\n",
    "        num_years = len(cumulative_returns_portfolio) / 12\n",
    "        compound_annual_growth_rate_portfolio = (1 + total_return_portfolio) ** (1 / num_years) - 1\n",
    "\n",
    "        # 夏普比率 使用月频\n",
    "        rf = 0.015\n",
    "        sharpe_ratio =(monthly_returns_portfolio.mean()*12 - rf )/(monthly_volatility_portfolio* (12 ** 0.5))\n",
    "\n",
    "        # calmar_ratio 使用月频\n",
    "        def max_drawdown(return_series):\n",
    "            comp_ret = (return_series+1).cumprod()\n",
    "            peak = comp_ret.expanding(min_periods=1).max()\n",
    "            dd = (comp_ret/peak)-1\n",
    "            return dd.min()\n",
    "\n",
    "        calmar_ratio = monthly_returns_portfolio.mean()*12/abs(max_drawdown(monthly_returns_portfolio))\n",
    "\n",
    "        print('股票占比:',stock_percent, '债券占比:',bond_percent)\n",
    "        print(start_date + \"至\" + end_date)\n",
    "        print(\"波动率（月度）：\"+ \"{:.2%}\".format(monthly_volatility_portfolio))\n",
    "        print(\"累计收益率：\"+ \"{:.2%}\".format(total_return_portfolio))\n",
    "        print(\"复合年化收益率：\"+ \"{:.2%}\".format(compound_annual_growth_rate_portfolio))\n",
    "        print(\"夏普比率：\", sharpe_ratio)\n",
    "        print(\"Calmar比率：\", calmar_ratio)\n",
    "        print(\"===================================\")\n",
    "        return\n",
    "\n",
    "calculate_combine('2005-01-01','2019-01-31',0.4,0.6)\n",
    "calculate_combine('2005-01-01','2019-01-31',0.3,0.7)\n",
    "calculate_combine('2005-01-01','2019-01-31',0.2,0.8)"
   ]
  },
  {
   "cell_type": "code",
   "execution_count": 4,
   "metadata": {},
   "outputs": [
    {
     "name": "stdout",
     "output_type": "stream",
     "text": [
      "中证800\n",
      "2005-01-01至2021-12-31\n",
      "波动率（月度）：8.31%\n",
      "累计收益率：465.07%\n",
      "复合年化收益率：10.78%\n",
      "夏普比率： 0.4496742932174485\n",
      "Calmar比率： 0.2061140628872818\n",
      "===================================\n",
      "上证国债\n",
      "2005-01-01至2021-12-31\n",
      "波动率（月度）：0.45%\n",
      "累计收益率：96.92%\n",
      "复合年化收益率：4.09%\n",
      "夏普比率： 1.6061468036893762\n",
      "Calmar比率： 2.0569932912205116\n",
      "===================================\n"
     ]
    }
   ],
   "source": [
    "calculate('2005-01-01','2021-12-31','中证800')\n",
    "calculate('2005-01-01','2021-12-31','上证国债')"
   ]
  },
  {
   "cell_type": "code",
   "execution_count": 5,
   "metadata": {},
   "outputs": [
    {
     "name": "stdout",
     "output_type": "stream",
     "text": [
      "股票占比: 0.4 债券占比: 0.6\n",
      "2005-01-01至2021-12-31\n",
      "波动率（月度）：3.27%\n",
      "累计收益率：257.33%\n",
      "复合年化收益率：7.78%\n",
      "夏普比率： 0.5900991968644655\n",
      "Calmar比率： 0.2510464581209761\n",
      "===================================\n",
      "股票占比: 0.3 债券占比: 0.7\n",
      "2005-01-01至2021-12-31\n",
      "波动率（月度）：2.44%\n",
      "累计收益率：214.57%\n",
      "复合年化收益率：6.97%\n",
      "夏普比率： 0.6680041255341334\n",
      "Calmar比率： 0.30033156716727577\n",
      "===================================\n",
      "股票占比: 0.2 债券占比: 0.8\n",
      "2005-01-01至2021-12-31\n",
      "波动率（月度）：1.62%\n",
      "累计收益率：172.98%\n",
      "复合年化收益率：6.09%\n",
      "夏普比率： 0.8210818711605884\n",
      "Calmar比率： 0.4275377059209416\n",
      "===================================\n"
     ]
    }
   ],
   "source": [
    "calculate_combine('2005-01-01','2021-12-31',0.4,0.6)\n",
    "calculate_combine('2005-01-01','2021-12-31',0.3,0.7)\n",
    "calculate_combine('2005-01-01','2021-12-31',0.2,0.8)"
   ]
  }
 ],
 "metadata": {
  "kernelspec": {
   "display_name": "Python 3",
   "language": "python",
   "name": "python3"
  },
  "language_info": {
   "codemirror_mode": {
    "name": "ipython",
    "version": 3
   },
   "file_extension": ".py",
   "mimetype": "text/x-python",
   "name": "python",
   "nbconvert_exporter": "python",
   "pygments_lexer": "ipython3",
   "version": "3.9.7"
  }
 },
 "nbformat": 4,
 "nbformat_minor": 2
}
