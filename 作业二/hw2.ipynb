{
 "cells": [
  {
   "cell_type": "code",
   "execution_count": 1,
   "metadata": {},
   "outputs": [],
   "source": [
    "import os\n",
    "import time\n",
    "from functools import reduce\n",
    "import numpy as np\n",
    "import pandas as pd"
   ]
  },
  {
   "cell_type": "markdown",
   "metadata": {},
   "source": [
    "**在载入数据时，提前filter好'2017-06-30' 至 '2018-12-31'间的数据，如果filter后的数据中有个股数据“完全”缺失，则完全剔除该个股**"
   ]
  },
  {
   "cell_type": "code",
   "execution_count": 2,
   "metadata": {},
   "outputs": [],
   "source": [
    "\n",
    "def load_data():\n",
    "    # 读取excel及h5数据，所有数据提前query所需范围\n",
    "    file_path1 = os.path.join(os.path.abspath(\"作业相关数据.xlsx\"))\n",
    "    file_path2 = os.path.join(os.path.abspath( \"eodprices.h5\"))\n",
    "    # 周度交易日历\n",
    "    weekly_trade_cal = pd.read_excel(file_path1, sheet_name=\"作业二_交易日历\", usecols=\"A\", skiprows=3, index_col=0).query(\"'2017-06-30' <= Date <= '2018-12-31'\")\n",
    "    weekly_trade_cal.index.name = \"trading_day\"\n",
    "    # 指数数据\n",
    "    index_data = pd.read_excel(file_path1, sheet_name=\"作业二_指数数据\", skiprows=3, index_col=0, usecols=\"A, B, C\").query(\"'2017-06-30' <= Date <= '2018-12-31'\").copy()\n",
    "    # 股票数据\n",
    "    stock_data = pd.read_hdf(file_path2)\n",
    "    stock_data.rename(columns={\"S_INFO_WINDCODE\": \"symbol\", \"TRADE_DT\": \"trading_day\", \"S_DQ_ADJCLOSE\": \"close\"}, inplace=True)\n",
    "    # 利用pivot_table整合数据\n",
    "    stock_data = stock_data.pivot_table(index=\"trading_day\", columns=\"symbol\", values=\"close\")\n",
    "    stock_data.index = pd.to_datetime(stock_data.index)\n",
    "    stock_data = stock_data.query(\"'2017-06-30' <= trading_day <= '2018-12-31'\").copy()\n",
    "    # 如果'2017-06-30' 至 '2018-12-31'间，该个股数据完全缺失，则剔除\n",
    "    stock_data.dropna(how=\"all\", axis=1, inplace=True)\n",
    "\n",
    "    return stock_data, index_data, weekly_trade_cal"
   ]
  },
  {
   "cell_type": "markdown",
   "metadata": {},
   "source": [
    "**根据report_date进行filter，如果filter数据后某些个股数据存在任何缺失（未上市），则将其剔除**\n",
    "\n",
    "**波动率计算时，假定一年有50周交易**\n",
    "\n",
    "**动量计算时，假定一个月有21个交易日**"
   ]
  },
  {
   "cell_type": "code",
   "execution_count": 3,
   "metadata": {},
   "outputs": [],
   "source": [
    "def calculation(stock_data, index_data, weekly_trade_cal, report_date):\n",
    "    start_time = time.time()\n",
    "\n",
    "    # 提取个股列表中往前一年的数据\n",
    "    part_stock_data = stock_data.query(f\"'{pd.Timestamp(report_date) - pd.DateOffset(years=1)}' <= trading_day <= '{report_date}'\").copy()\n",
    "    part_index_data = index_data.loc[part_stock_data.index]\n",
    "    # 剔除提取后数据不完整的股票.\n",
    "    part_stock_data.dropna(axis=1, inplace=True)\n",
    "    part_stock_data_weekly = part_stock_data.merge(weekly_trade_cal, on='trading_day')\n",
    "    # 假定一年有50周交易，计算std（波动率因子）\n",
    "    stddev = (part_stock_data_weekly.pct_change().std() * np.sqrt(50)).to_frame(\"Stddev\")\n",
    "    stddev.index.name = \"symbol\"\n",
    "\n",
    "    # 计算动量因子\n",
    "    mom1 = part_stock_data.pct_change(1 * 21).iloc[-1].to_frame(\"Mom1\")\n",
    "    mom2 = part_stock_data.pct_change(3 * 21).iloc[-1].to_frame(\"Mom2\")\n",
    "    mom3 = part_stock_data.pct_change(6 * 21).iloc[-1].to_frame(\"Mom3\")\n",
    "\n",
    "    # 计算Beta\n",
    "    beta = part_stock_data.pct_change().dropna().merge(part_index_data.pct_change().dropna(), on=\"trading_day\").corr().loc[stddev.index, index_data.columns]\n",
    "    beta.rename(columns={\"000300.SH\": \"Beta1\", \"000905.SH\": \"Beta2\"}, inplace=True)\n",
    "    beta.index.name = \"symbol\"\n",
    "\n",
    "    #将所有大类因子整合\n",
    "    results = reduce(lambda x, y: pd.merge(x, y, on=\"symbol\"), [stddev, mom1, mom2, mom3, beta])\n",
    "\n",
    "    end_time = time.time()\n",
    "    print(f\"calculation time cost: {end_time - start_time:.2f}s\")\n",
    "\n",
    "    return results"
   ]
  },
  {
   "cell_type": "code",
   "execution_count": 4,
   "metadata": {},
   "outputs": [
    {
     "name": "stdout",
     "output_type": "stream",
     "text": [
      "calculation time cost: 4.59s\n",
      "calculation time cost: 5.10s\n"
     ]
    }
   ],
   "source": [
    "if __name__ == '__main__':\n",
    "    stock_data, index_data, weekly_trade_cal = load_data()\n",
    "    \n",
    "    results1 = calculation(stock_data, index_data, weekly_trade_cal, \"2018-06-30\")\n",
    "    results2 = calculation(stock_data, index_data, weekly_trade_cal, \"2018-12-31\")\n",
    "    \n",
    "    #转成excel\n",
    "    results1.to_excel(\"作业二20180630.xlsx\")\n",
    "    results2.to_excel(\"作业二20181231.xlsx\")"
   ]
  },
  {
   "cell_type": "markdown",
   "metadata": {},
   "source": [
    "**整体运行预计在15秒以内**"
   ]
  }
 ],
 "metadata": {
  "kernelspec": {
   "display_name": "Python 3",
   "language": "python",
   "name": "python3"
  },
  "language_info": {
   "codemirror_mode": {
    "name": "ipython",
    "version": 3
   },
   "file_extension": ".py",
   "mimetype": "text/x-python",
   "name": "python",
   "nbconvert_exporter": "python",
   "pygments_lexer": "ipython3",
   "version": "3.9.7"
  }
 },
 "nbformat": 4,
 "nbformat_minor": 2
}
