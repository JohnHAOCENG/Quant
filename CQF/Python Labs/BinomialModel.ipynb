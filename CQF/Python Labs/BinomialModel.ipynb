{
 "cells": [
  {
   "cell_type": "code",
   "execution_count": 2,
   "metadata": {},
   "outputs": [],
   "source": [
    "from numpy import *\n",
    "# Import plotting functions from helper"
   ]
  },
  {
   "cell_type": "code",
   "execution_count": null,
   "metadata": {},
   "outputs": [],
   "source": [
    "ts = time/steps # ts is time steps, dt\n",
    "u = 1 + sigma*sqrt(ts) # u is up factor\n",
    "v = 1 - sigma*sqrt(ts) # v is down factor\n",
    "p = 0.5 + rate*sqrt(ts)/(2*sigma) # p here is risk neutral probability (p') - for ease of use\n",
    "df = 1/(1+rate*ts) # df is discount factor\n",
    "# initialize arrays\n",
    "px = zeros((steps+1, steps+1)) # price path\n",
    "cp = zeros((steps+1, steps+1)) # call intrinsic payoff\n",
    "V = zeros((steps+1, steps+1)) # option value\n",
    "d = zeros((steps+1, steps+1)) # delta value\n",
    "# binomial loop\n",
    "for j in range(steps+1):\n",
    "for i in range(j+1):\n",
    "px[i,j] = spot * power(v,i) * power(u,j-i)\n",
    "cp[i,j] = maximum(px[i,j] - strike,0)\n",
    "for j in range(steps+1, 0, -1):\n",
    "for i in range(j):\n",
    "if (j == steps+1):\n",
    "V[i,j-1] = cp[i,j-1] # terminal payoff\n",
    "d[i,j-1] = 0 # terminal delta\n",
    "else:\n",
    "V[i,j-1] = df*(p*V[i,j]+(1-p)*V[i+1,j])\n",
    "d[i,j-1] = (V[i,j]-V[i+1,j])/(px[i,j]-px[i+1,j])\n",
    "results = around(px,2), around(cp,2), around(V,2), around(d,4)\n",
    "return results[output]"
   ]
  }
 ],
 "metadata": {
  "kernelspec": {
   "display_name": "Python 3",
   "language": "python",
   "name": "python3"
  },
  "language_info": {
   "codemirror_mode": {
    "name": "ipython",
    "version": 3
   },
   "file_extension": ".py",
   "mimetype": "text/x-python",
   "name": "python",
   "nbconvert_exporter": "python",
   "pygments_lexer": "ipython3",
   "version": "3.8.5"
  },
  "orig_nbformat": 4
 },
 "nbformat": 4,
 "nbformat_minor": 2
}
