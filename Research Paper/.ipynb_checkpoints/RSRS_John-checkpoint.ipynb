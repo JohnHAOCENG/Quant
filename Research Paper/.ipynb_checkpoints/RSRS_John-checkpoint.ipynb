{
 "cells": [
  {
   "cell_type": "code",
   "execution_count": null,
   "id": "c85274b6-87aa-469f-a0c8-9a382d20fdf2",
   "metadata": {},
   "outputs": [
    {
     "ename": "",
     "evalue": "",
     "output_type": "error",
     "traceback": [
      "\u001b[1;31mFailed to start the Kernel. \n",
      "\u001b[1;31m0.00s - Debugger warning: It seems that frozen modules are being used, which may\n",
      "\u001b[1;31m0.00s - make the debugger miss breakpoints. Please pass -Xfrozen_modules=off\n",
      "\u001b[1;31m0.00s - to python to disable frozen modules.\n",
      "\u001b[1;31m0.00s - Note: Debugging will proceed. Set PYDEVD_DISABLE_FILE_VALIDATION=1 to disable this validation.\n",
      "\u001b[1;31mBad address (C:\\ci\\zeromq_1616055400030\\work\\src\\epoll.cpp:100). \n",
      "\u001b[1;31mView Jupyter <a href='command:jupyter.viewOutput'>log</a> for further details."
     ]
    }
   ],
   "source": [
    "import pandas as pd\n",
    "\n",
    "import matplotlib.pyplot as plt\n",
    "import yfinance as yf\n",
    "from sklearn.linear_model import LinearRegression"
   ]
  },
  {
   "cell_type": "code",
   "execution_count": null,
   "id": "07eda718-c36b-4767-86f0-e230ce584166",
   "metadata": {},
   "outputs": [
    {
     "ename": "",
     "evalue": "",
     "output_type": "error",
     "traceback": [
      "\u001b[1;31mFailed to start the Kernel. \n",
      "\u001b[1;31m0.00s - Debugger warning: It seems that frozen modules are being used, which may\n",
      "\u001b[1;31m0.00s - make the debugger miss breakpoints. Please pass -Xfrozen_modules=off\n",
      "\u001b[1;31m0.00s - to python to disable frozen modules.\n",
      "\u001b[1;31m0.00s - Note: Debugging will proceed. Set PYDEVD_DISABLE_FILE_VALIDATION=1 to disable this validation.\n",
      "\u001b[1;31mBad address (C:\\ci\\zeromq_1616055400030\\work\\src\\epoll.cpp:100). \n",
      "\u001b[1;31mView Jupyter <a href='command:jupyter.viewOutput'>log</a> for further details."
     ]
    }
   ],
   "source": [
    "df = yf.download('000300.SS', start=\"2021-03-15\", end=\"2023-08-15\")\n",
    "df"
   ]
  },
  {
   "cell_type": "code",
   "execution_count": null,
   "id": "b00522b0-2e85-4119-9b5e-1170e40a97c5",
   "metadata": {},
   "outputs": [
    {
     "ename": "",
     "evalue": "",
     "output_type": "error",
     "traceback": [
      "\u001b[1;31mFailed to start the Kernel. \n",
      "\u001b[1;31m0.00s - Debugger warning: It seems that frozen modules are being used, which may\n",
      "\u001b[1;31m0.00s - make the debugger miss breakpoints. Please pass -Xfrozen_modules=off\n",
      "\u001b[1;31m0.00s - to python to disable frozen modules.\n",
      "\u001b[1;31m0.00s - Note: Debugging will proceed. Set PYDEVD_DISABLE_FILE_VALIDATION=1 to disable this validation.\n",
      "\u001b[1;31mBad address (C:\\ci\\zeromq_1616055400030\\work\\src\\epoll.cpp:100). \n",
      "\u001b[1;31mView Jupyter <a href='command:jupyter.viewOutput'>log</a> for further details."
     ]
    }
   ],
   "source": [
    "df['pct'] = df['Close']/df['Close'].shift(1) -1.0\n",
    "df = df.dropna().reset_index(drop = False)\n",
    "df"
   ]
  },
  {
   "cell_type": "code",
   "execution_count": null,
   "id": "630709e6-265d-4070-a970-b57c75ef65f4",
   "metadata": {},
   "outputs": [
    {
     "ename": "",
     "evalue": "",
     "output_type": "error",
     "traceback": [
      "\u001b[1;31mFailed to start the Kernel. \n",
      "\u001b[1;31m0.00s - Debugger warning: It seems that frozen modules are being used, which may\n",
      "\u001b[1;31m0.00s - make the debugger miss breakpoints. Please pass -Xfrozen_modules=off\n",
      "\u001b[1;31m0.00s - to python to disable frozen modules.\n",
      "\u001b[1;31m0.00s - Note: Debugging will proceed. Set PYDEVD_DISABLE_FILE_VALIDATION=1 to disable this validation.\n",
      "\u001b[1;31mBad address (C:\\ci\\zeromq_1616055400030\\work\\src\\epoll.cpp:100). \n",
      "\u001b[1;31mView Jupyter <a href='command:jupyter.viewOutput'>log</a> for further details."
     ]
    }
   ],
   "source": [
    "np.random.seed(0)"
   ]
  },
  {
   "cell_type": "code",
   "execution_count": null,
   "id": "ed38c923-a5b2-467b-81e6-77ee069de7ec",
   "metadata": {},
   "outputs": [
    {
     "ename": "",
     "evalue": "",
     "output_type": "error",
     "traceback": [
      "\u001b[1;31mFailed to start the Kernel. \n",
      "\u001b[1;31m0.00s - Debugger warning: It seems that frozen modules are being used, which may\n",
      "\u001b[1;31m0.00s - make the debugger miss breakpoints. Please pass -Xfrozen_modules=off\n",
      "\u001b[1;31m0.00s - to python to disable frozen modules.\n",
      "\u001b[1;31m0.00s - Note: Debugging will proceed. Set PYDEVD_DISABLE_FILE_VALIDATION=1 to disable this validation.\n",
      "\u001b[1;31mBad address (C:\\ci\\zeromq_1616055400030\\work\\src\\epoll.cpp:100). \n",
      "\u001b[1;31mView Jupyter <a href='command:jupyter.viewOutput'>log</a> for further details."
     ]
    }
   ],
   "source": [
    "N = 18\n",
    "x = np.arange(1, N+1)\n",
    "x_noise = x + np.random.randn(N)\n",
    "y = 2* x_noise + 1\n",
    "print ('x:', x)\n",
    "print ('x_noise:', x_noise)\n",
    "print ('y:', y)\n",
    "plt.figure(figsize = (7,7))\n",
    "plt.scatter(x, y)\n",
    "plt.show()"
   ]
  },
  {
   "cell_type": "code",
   "execution_count": null,
   "id": "93b617a8-b755-47fb-a2c6-fed301bddfdf",
   "metadata": {},
   "outputs": [
    {
     "ename": "",
     "evalue": "",
     "output_type": "error",
     "traceback": [
      "\u001b[1;31mFailed to start the Kernel. \n",
      "\u001b[1;31m0.00s - Debugger warning: It seems that frozen modules are being used, which may\n",
      "\u001b[1;31m0.00s - make the debugger miss breakpoints. Please pass -Xfrozen_modules=off\n",
      "\u001b[1;31m0.00s - to python to disable frozen modules.\n",
      "\u001b[1;31m0.00s - Note: Debugging will proceed. Set PYDEVD_DISABLE_FILE_VALIDATION=1 to disable this validation.\n",
      "\u001b[1;31mBad address (C:\\ci\\zeromq_1616055400030\\work\\src\\epoll.cpp:100). \n",
      "\u001b[1;31mView Jupyter <a href='command:jupyter.viewOutput'>log</a> for further details."
     ]
    }
   ],
   "source": [
    "lr = LinearRegression().fit(x.reshape(-1,1),y)\n",
    "y_pred = lr.predict(x.reshape(-1, 1))\n",
    "beta = lr.coef_[0]\n",
    "alpha = lr.intercept_\n",
    "\n",
    "print('Slope',beta, 'Intercept',alpha)\n",
    "plt.figure(figsize = (7,7))\n",
    "plt.scatter(x,y)\n",
    "plt.plot(x, y_pred, color = 'red')\n",
    "plt.show()"
   ]
  },
  {
   "cell_type": "code",
   "execution_count": null,
   "id": "0ce62c1e-1f54-4f63-824e-28ccf5aaa604",
   "metadata": {},
   "outputs": [
    {
     "ename": "",
     "evalue": "",
     "output_type": "error",
     "traceback": [
      "\u001b[1;31mFailed to start the Kernel. \n",
      "\u001b[1;31m0.00s - Debugger warning: It seems that frozen modules are being used, which may\n",
      "\u001b[1;31m0.00s - make the debugger miss breakpoints. Please pass -Xfrozen_modules=off\n",
      "\u001b[1;31m0.00s - to python to disable frozen modules.\n",
      "\u001b[1;31m0.00s - Note: Debugging will proceed. Set PYDEVD_DISABLE_FILE_VALIDATION=1 to disable this validation.\n",
      "\u001b[1;31mBad address (C:\\ci\\zeromq_1616055400030\\work\\src\\epoll.cpp:100). \n",
      "\u001b[1;31mView Jupyter <a href='command:jupyter.viewOutput'>log</a> for further details."
     ]
    }
   ],
   "source": [
    "def calculate_beta(df, window = 18):\n",
    "    if df.shape[0] < window:\n",
    "        return np.nan\n",
    "    x = df['Low'].values\n",
    "    y = df['High'].values\n",
    "    beta = LinearRegression().fit(x.reshape(-1, 1), y).coef_[0]\n",
    "    return beta\n",
    "\n",
    "N = 18\n",
    "df['beta'] = [calculate_beta(i,window=N) for i in df.rolling(N)]\n",
    "\n",
    "df"
   ]
  },
  {
   "cell_type": "code",
   "execution_count": null,
   "id": "4c34842b-4c22-41e0-9959-b9db5b16315a",
   "metadata": {},
   "outputs": [
    {
     "ename": "",
     "evalue": "",
     "output_type": "error",
     "traceback": [
      "\u001b[1;31mFailed to start the Kernel. \n",
      "\u001b[1;31m0.00s - Debugger warning: It seems that frozen modules are being used, which may\n",
      "\u001b[1;31m0.00s - make the debugger miss breakpoints. Please pass -Xfrozen_modules=off\n",
      "\u001b[1;31m0.00s - to python to disable frozen modules.\n",
      "\u001b[1;31m0.00s - Note: Debugging will proceed. Set PYDEVD_DISABLE_FILE_VALIDATION=1 to disable this validation.\n",
      "\u001b[1;31mBad address (C:\\ci\\zeromq_1616055400030\\work\\src\\epoll.cpp:100). \n",
      "\u001b[1;31mView Jupyter <a href='command:jupyter.viewOutput'>log</a> for further details."
     ]
    }
   ],
   "source": [
    "print('均值：%.3f' %df['beta'].mean())\n",
    "print('标准差：%.3f' %df['beta'].std())\n",
    "print('偏度：%.3f' %df['beta'].skew())\n",
    "print('峰度：%.3f' %df['beta'].kurt())\n",
    "\n",
    "y = list(range(20))\n",
    "plt.figure(figsize=(16,8))\n",
    "plt.hist(df['beta'], bins=100)\n",
    "plt.plot(len(y)*[0.8], y, color='green', linestyle=':')\n",
    "plt.plot(len(y)*[1.0], y, color='red', linestyle=':')\n",
    "plt.show()\n"
   ]
  },
  {
   "cell_type": "code",
   "execution_count": null,
   "id": "7f575027-e566-46b5-b34b-0f29df023cdf",
   "metadata": {},
   "outputs": [
    {
     "ename": "",
     "evalue": "",
     "output_type": "error",
     "traceback": [
      "\u001b[1;31mFailed to start the Kernel. \n",
      "\u001b[1;31m0.00s - Debugger warning: It seems that frozen modules are being used, which may\n",
      "\u001b[1;31m0.00s - make the debugger miss breakpoints. Please pass -Xfrozen_modules=off\n",
      "\u001b[1;31m0.00s - to python to disable frozen modules.\n",
      "\u001b[1;31m0.00s - Note: Debugging will proceed. Set PYDEVD_DISABLE_FILE_VALIDATION=1 to disable this validation.\n",
      "\u001b[1;31mBad address (C:\\ci\\zeromq_1616055400030\\work\\src\\epoll.cpp:100). \n",
      "\u001b[1;31mView Jupyter <a href='command:jupyter.viewOutput'>log</a> for further details."
     ]
    }
   ],
   "source": [
    "buy_thre = 1.0\n",
    "sell_thre = 0.8\n",
    "data1 = df.dropna().copy().reset_index(drop = True)\n",
    "\n",
    "data1['flag'] = 0\n",
    "data1['position'] = 0\n",
    "position = 0\n",
    "\n",
    "\n",
    "for i in range(1, data1.shape[0] - 1):\n",
    "    beta = data1.loc[i,'beta']\n",
    "    if(position == 0) and (beta > buy_thre):\n",
    "        # above thre, buy the stock, change pos to 1\n",
    "        data1.loc[i, 'flag'] = 1\n",
    "        data1.loc[i+1, 'position'] = 1\n",
    "        position = 1\n",
    "    elif (position == 1) and (beta < sell_thre):\n",
    "        # below thre, sell the stock, change pos to 0\n",
    "        data1.loc[i, 'flag'] = -1\n",
    "        data1.loc[i+1, 'position'] = 0\n",
    "        position = 0\n",
    "    else:\n",
    "        data1.loc[i+1, 'position'] = data1.loc[i, 'position']\n",
    "\n",
    "# RSRS daily return rate\n",
    "data1['strategy_pct'] = data1['pct'] * data1['position']\n",
    "\n",
    "# Strategy return and hs300 return\n",
    "data1['strategy'] = (1.0 + data1['strategy_pct']).cumprod()\n",
    "data1['hs300'] = (1.0 + data1['pct']).cumprod()\n",
    "\n",
    "# annual return\n",
    "annual_return1 = 100 * (pow(data1['strategy'].iloc[-1], 250/data1.shape[0]) - 1.0)\n",
    "print('RSRS斜率量化择时策略的年化收益率：%.2f%%'%annual_return1)\n",
    "\n",
    "#将索引从字符串转换为日期格式，方便展示\n",
    "data1.index = pd.to_datetime(data1['Date'])\n",
    "ax = data1[['strategy','hs300']].plot(figsize=(16,8), color=['SteelBlue','Red'],title='RSRS')\n",
    "plt.show()\n"
   ]
  },
  {
   "cell_type": "code",
   "execution_count": null,
   "id": "83d7fa36-9e2d-4dd5-947f-49f5c567de95",
   "metadata": {},
   "outputs": [
    {
     "ename": "",
     "evalue": "",
     "output_type": "error",
     "traceback": [
      "\u001b[1;31mFailed to start the Kernel. \n",
      "\u001b[1;31m0.00s - Debugger warning: It seems that frozen modules are being used, which may\n",
      "\u001b[1;31m0.00s - make the debugger miss breakpoints. Please pass -Xfrozen_modules=off\n",
      "\u001b[1;31m0.00s - to python to disable frozen modules.\n",
      "\u001b[1;31m0.00s - Note: Debugging will proceed. Set PYDEVD_DISABLE_FILE_VALIDATION=1 to disable this validation.\n",
      "\u001b[1;31mBad address (C:\\ci\\zeromq_1616055400030\\work\\src\\epoll.cpp:100). \n",
      "\u001b[1;31mView Jupyter <a href='command:jupyter.viewOutput'>log</a> for further details."
     ]
    }
   ],
   "source": [
    "M = 600\n",
    "buy_thre = 0.7\n",
    "sell_thre = -0.7\n",
    "\n",
    "data2 = df.dropna().copy().reset_index(drop = True)\n",
    "data2['std_score'] = (data2['beta'] - data2['beta'].rolling(M, min_periods = 20).mean())/(data2['beta'].rolling(M, min_periods = 20).std())\n",
    "\n",
    "data2['flag'] = 0\n",
    "data2['position'] = 0\n",
    "position = 0\n",
    "\n",
    "for i in range(1, data2.shape[0] - 1):\n",
    "    std_score = data2.loc[i,'std_score']\n",
    "    if (position == 0) and (std_score > buy_thre):\n",
    "        data2.loc[i,'flag'] = 1\n",
    "        data2.loc[i+1, 'position'] = 1\n",
    "        position = 1\n",
    "    elif (position == 1) and (std_score < sell_thre):\n",
    "        data2.loc[i,'flage'] = -1\n",
    "        data2.loc[i+1, 'position'] = 0\n",
    "        position = 0\n",
    "    else:\n",
    "        data2.loc[i+1, 'position'] = data2.loc[i, 'position']\n",
    "    \n",
    "\n",
    "data2['strategy_pct'] = data2['pct'] * data2['position']\n",
    "\n",
    "data2['strategy'] = (1.0 + data2['strategy_pct']).cumprod()\n",
    "data2['hs300'] = (1.0 + data2['pct']).cumprod()\n",
    "\n",
    "annual_return2 = 100*(pow(data2['strategy'].iloc[-1], 250/data2.shape[0])-1.0)\n",
    "print('RSRS斜率量化择时策略的年化收益率：%.2f%%'%annual_return2)\n",
    "\n",
    "#将索引从字符串转换为日期格式，方便展示\n",
    "data2.index = pd.to_datetime(data2['Date'])\n",
    "ax = data2[['strategy','hs300']].plot(figsize=(16,8), color=['SteelBlue','Red'],title='RSRS')\n",
    "plt.show()\n"
   ]
  },
  {
   "cell_type": "code",
   "execution_count": null,
   "id": "b8b76e4a-787a-4540-a66d-c892c89af6be",
   "metadata": {},
   "outputs": [
    {
     "ename": "",
     "evalue": "",
     "output_type": "error",
     "traceback": [
      "\u001b[1;31mFailed to start the Kernel. \n",
      "\u001b[1;31m0.00s - Debugger warning: It seems that frozen modules are being used, which may\n",
      "\u001b[1;31m0.00s - make the debugger miss breakpoints. Please pass -Xfrozen_modules=off\n",
      "\u001b[1;31m0.00s - to python to disable frozen modules.\n",
      "\u001b[1;31m0.00s - Note: Debugging will proceed. Set PYDEVD_DISABLE_FILE_VALIDATION=1 to disable this validation.\n",
      "\u001b[1;31mBad address (C:\\ci\\zeromq_1616055400030\\work\\src\\epoll.cpp:100). \n",
      "\u001b[1;31mView Jupyter <a href='command:jupyter.viewOutput'>log</a> for further details."
     ]
    }
   ],
   "source": [
    "print('RSRS斜率量化择时策略的年化收益率 RSRS slope strategy：%.2f%%'%annual_return1)\n",
    "print('RSRS斜率量化择时策略的年化收益率 RSRS std strategy：%.2f%%'%annual_return2)\n",
    "\n",
    "data_merge = pd.merge(data1[['Date','strategy']].rename(columns={'strategy':'RSRS slope strategy'}),\n",
    "                      data2[['strategy','hs300']].rename(columns={'strategy':'RSRS std strategy'}),\n",
    "                      left_index=True, right_index=True, how='inner')\n",
    "data_merge.index = pd.to_datetime(data_merge['Date'])\n",
    "ax = data_merge[['RSRS slope strategy','RSRS std strategy','hs300']].plot(figsize=(16,8), \n",
    "                color=['Yellow','SteelBlue','Red'], title='RSRS')\n",
    "plt.show()\n"
   ]
  },
  {
   "cell_type": "code",
   "execution_count": null,
   "id": "dcf7ccdf-1f79-407b-9fe5-36214a2abfa2",
   "metadata": {},
   "outputs": [
    {
     "ename": "",
     "evalue": "",
     "output_type": "error",
     "traceback": [
      "\u001b[1;31mFailed to start the Kernel. \n",
      "\u001b[1;31m0.00s - Debugger warning: It seems that frozen modules are being used, which may\n",
      "\u001b[1;31m0.00s - make the debugger miss breakpoints. Please pass -Xfrozen_modules=off\n",
      "\u001b[1;31m0.00s - to python to disable frozen modules.\n",
      "\u001b[1;31m0.00s - Note: Debugging will proceed. Set PYDEVD_DISABLE_FILE_VALIDATION=1 to disable this validation.\n",
      "\u001b[1;31mBad address (C:\\ci\\zeromq_1616055400030\\work\\src\\epoll.cpp:100). \n",
      "\u001b[1;31mView Jupyter <a href='command:jupyter.viewOutput'>log</a> for further details."
     ]
    }
   ],
   "source": []
  },
  {
   "cell_type": "code",
   "execution_count": null,
   "id": "428542ec-ba54-47e7-87f6-589e203b491f",
   "metadata": {},
   "outputs": [
    {
     "ename": "",
     "evalue": "",
     "output_type": "error",
     "traceback": [
      "\u001b[1;31mFailed to start the Kernel. \n",
      "\u001b[1;31m0.00s - Debugger warning: It seems that frozen modules are being used, which may\n",
      "\u001b[1;31m0.00s - make the debugger miss breakpoints. Please pass -Xfrozen_modules=off\n",
      "\u001b[1;31m0.00s - to python to disable frozen modules.\n",
      "\u001b[1;31m0.00s - Note: Debugging will proceed. Set PYDEVD_DISABLE_FILE_VALIDATION=1 to disable this validation.\n",
      "\u001b[1;31mBad address (C:\\ci\\zeromq_1616055400030\\work\\src\\epoll.cpp:100). \n",
      "\u001b[1;31mView Jupyter <a href='command:jupyter.viewOutput'>log</a> for further details."
     ]
    }
   ],
   "source": []
  },
  {
   "cell_type": "code",
   "execution_count": null,
   "id": "c576e7f1-3615-4bda-8c71-04f35f00a9fe",
   "metadata": {},
   "outputs": [
    {
     "ename": "",
     "evalue": "",
     "output_type": "error",
     "traceback": [
      "\u001b[1;31mFailed to start the Kernel. \n",
      "\u001b[1;31m0.00s - Debugger warning: It seems that frozen modules are being used, which may\n",
      "\u001b[1;31m0.00s - make the debugger miss breakpoints. Please pass -Xfrozen_modules=off\n",
      "\u001b[1;31m0.00s - to python to disable frozen modules.\n",
      "\u001b[1;31m0.00s - Note: Debugging will proceed. Set PYDEVD_DISABLE_FILE_VALIDATION=1 to disable this validation.\n",
      "\u001b[1;31mBad address (C:\\ci\\zeromq_1616055400030\\work\\src\\epoll.cpp:100). \n",
      "\u001b[1;31mView Jupyter <a href='command:jupyter.viewOutput'>log</a> for further details."
     ]
    }
   ],
   "source": []
  },
  {
   "cell_type": "code",
   "execution_count": null,
   "id": "ed3824f3-c89d-4605-89a5-5d6fcf73d244",
   "metadata": {},
   "outputs": [
    {
     "ename": "",
     "evalue": "",
     "output_type": "error",
     "traceback": [
      "\u001b[1;31mFailed to start the Kernel. \n",
      "\u001b[1;31m0.00s - Debugger warning: It seems that frozen modules are being used, which may\n",
      "\u001b[1;31m0.00s - make the debugger miss breakpoints. Please pass -Xfrozen_modules=off\n",
      "\u001b[1;31m0.00s - to python to disable frozen modules.\n",
      "\u001b[1;31m0.00s - Note: Debugging will proceed. Set PYDEVD_DISABLE_FILE_VALIDATION=1 to disable this validation.\n",
      "\u001b[1;31mBad address (C:\\ci\\zeromq_1616055400030\\work\\src\\epoll.cpp:100). \n",
      "\u001b[1;31mView Jupyter <a href='command:jupyter.viewOutput'>log</a> for further details."
     ]
    }
   ],
   "source": []
  }
 ],
 "metadata": {
  "kernelspec": {
   "display_name": "Python 3 (ipykernel)",
   "language": "python",
   "name": "python3"
  },
  "language_info": {
   "codemirror_mode": {
    "name": "ipython",
    "version": 3
   },
   "file_extension": ".py",
   "mimetype": "text/x-python",
   "name": "python",
   "nbconvert_exporter": "python",
   "pygments_lexer": "ipython3",
   "version": "3.11.4"
  }
 },
 "nbformat": 4,
 "nbformat_minor": 5
}
